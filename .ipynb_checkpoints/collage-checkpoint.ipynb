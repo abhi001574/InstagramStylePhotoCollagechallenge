{
 "cells": [
  {
   "cell_type": "code",
   "execution_count": null,
   "metadata": {},
   "outputs": [],
   "source": [
    "import numpy as np\n",
    "import pandas as pd\n",
    "import cv2 \n",
    "import matplotlib.pyplot as plt"
   ]
  },
  {
   "cell_type": "code",
   "execution_count": null,
   "metadata": {},
   "outputs": [],
   "source": [
    "tl=cv2.imread('top_left.jpg',1)#1 for showing colored image\n",
    "tlfinal=cv2.resize(tl,(200,200))\n",
    "tlfwithborder=cv2.copyMakeBorder(tlfinal,10,5,10,5,cv2.BORDER_CONSTANT)"
   ]
  },
  {
   "cell_type": "code",
   "execution_count": null,
   "metadata": {},
   "outputs": [],
   "source": [
    "tr=cv2.imread('top_right.jpg',1)#1 for showing colored image\n",
    "trfinal=cv2.resize(tr,(200,200))\n",
    "trfwithborder=cv2.copyMakeBorder(trfinal,10,5,5,10,cv2.BORDER_CONSTANT)"
   ]
  },
  {
   "cell_type": "code",
   "execution_count": null,
   "metadata": {},
   "outputs": [],
   "source": [
    "bl=cv2.imread('bottom_left.jpg',1)#1 for showing colored image\n",
    "blfinal=cv2.resize(bl,(200,200))\n",
    "blfwithborder=cv2.copyMakeBorder(blfinal,5,10,10,5,cv2.BORDER_CONSTANT)"
   ]
  },
  {
   "cell_type": "code",
   "execution_count": null,
   "metadata": {},
   "outputs": [],
   "source": [
    "br=cv2.imread('bottom_right.jpg',1)#1 for showing colored image\n",
    "brfinal=cv2.resize(br,(200,200))\n",
    "brfwithborder=cv2.copyMakeBorder(brfinal,5,10,5,10,cv2.BORDER_CONSTANT)  #top, bottom, left, right"
   ]
  },
  {
   "cell_type": "code",
   "execution_count": null,
   "metadata": {},
   "outputs": [],
   "source": [
    "center=cv2.imread('center.jpeg',1)#1 for showing colored image\n",
    "cfinal=cv2.resize(center,(100,100))\n",
    "cfwithborder=cv2.copyMakeBorder(cfinal,10,10,10,10,cv2.BORDER_CONSTANT)  #top, bottom, left, right"
   ]
  },
  {
   "cell_type": "code",
   "execution_count": null,
   "metadata": {},
   "outputs": [],
   "source": [
    "img1=np.hstack((tlfwithborder,trfwithborder))\n",
    "img2=np.hstack((blfwithborder,brfwithborder))\n",
    "img=np.vstack((img1,img2))\n",
    "im=cv2.cvtColor(img,cv2.COLOR_BGR2RGB)"
   ]
  },
  {
   "cell_type": "code",
   "execution_count": null,
   "metadata": {},
   "outputs": [],
   "source": [
    "cfwithborder=cv2.cvtColor(cfwithborder,cv2.COLOR_BGR2RGB)\n",
    "im[155:275,155:275]=cfwithborder\n",
    "plt.imshow(im)\n",
    "plt.show()"
   ]
  },
  {
   "cell_type": "code",
   "execution_count": null,
   "metadata": {},
   "outputs": [],
   "source": [
    "arr=np.array(im)\n",
    "df=pd.DataFrame(arr.reshape(-1,3),columns=['r','g','b'])\n",
    "print(arr.shape)\n",
    "df.to_csv(\"instagram_collage.csv\",index=False)"
   ]
  },
  {
   "cell_type": "code",
   "execution_count": null,
   "metadata": {},
   "outputs": [],
   "source": []
  }
 ],
 "metadata": {
  "kernelspec": {
   "display_name": "Python 3",
   "language": "python",
   "name": "python3"
  },
  "language_info": {
   "codemirror_mode": {
    "name": "ipython",
    "version": 3
   },
   "file_extension": ".py",
   "mimetype": "text/x-python",
   "name": "python",
   "nbconvert_exporter": "python",
   "pygments_lexer": "ipython3",
   "version": "3.7.6"
  }
 },
 "nbformat": 4,
 "nbformat_minor": 4
}
